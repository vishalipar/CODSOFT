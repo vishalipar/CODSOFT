{
 "cells": [
  {
   "cell_type": "code",
   "execution_count": 33,
   "id": "1f798723-8180-4d41-b768-387fdac4ec70",
   "metadata": {},
   "outputs": [],
   "source": [
    "import os\n",
    "\n",
    "todo_file = 'TO-DO.txt'"
   ]
  },
  {
   "cell_type": "code",
   "execution_count": 34,
   "id": "6edf3152-3deb-4ca1-8523-94616ab2a131",
   "metadata": {},
   "outputs": [],
   "source": [
    "def add_task():\n",
    "    task = input(\"Enter your new task: \")\n",
    "    with open(todo_file, 'a') as file:\n",
    "        print('Your task added successfully ...')\n",
    "        return file.write(task + '\\n')\n"
   ]
  },
  {
   "cell_type": "code",
   "execution_count": 35,
   "id": "01d958e7-8478-4c19-b07a-d31a18dd0a84",
   "metadata": {},
   "outputs": [],
   "source": [
    "def loadTasks():\n",
    "    if not os.path.exists(todo_file):\n",
    "        return []\n",
    "    with open(todo_file, 'r') as file:\n",
    "        return [line.strip() for line in file.readlines()]"
   ]
  },
  {
   "cell_type": "code",
   "execution_count": 36,
   "id": "e2051776-57b1-4acc-bc09-011226510434",
   "metadata": {},
   "outputs": [],
   "source": [
    "def saveTask(tasks):\n",
    "    with open(todo_file, 'w') as file:\n",
    "        for task in tasks:\n",
    "            file.write(task + '\\n')"
   ]
  },
  {
   "cell_type": "code",
   "execution_count": 37,
   "id": "122223b2-e449-490f-91f1-fcd389239602",
   "metadata": {},
   "outputs": [],
   "source": [
    "def showTasks(tasks):\n",
    "    if not tasks:\n",
    "        print('Your To-do list is empty')\n",
    "    else:\n",
    "        print('Your To-do list :')\n",
    "        with open(todo_file, 'r') as file:\n",
    "            for i, task in enumerate(tasks, 1):\n",
    "                print(f'{i}. {task}')"
   ]
  },
  {
   "cell_type": "code",
   "execution_count": 38,
   "id": "8cf591f4-e736-44a8-8b9f-ed4a36896844",
   "metadata": {},
   "outputs": [],
   "source": [
    "def updateTask():\n",
    "    tasks = loadTasks()\n",
    "    showTasks(tasks)\n",
    "    try:\n",
    "        num = int(input('Enter number of the task to update :'))\n",
    "        newTask = input('Enter updated task :')\n",
    "        tasks[num - 1] = newTask\n",
    "        saveTask(tasks)\n",
    "        print('Task updated !')\n",
    "    except (ValueError, IndexError):\n",
    "        print('Invalid task number')"
   ]
  },
  {
   "cell_type": "code",
   "execution_count": 45,
   "id": "3dbbfe2f-08d3-4b21-ad2e-54b9045b2183",
   "metadata": {},
   "outputs": [],
   "source": [
    "def main():\n",
    "    print('------ Welcome to TO-DO List -----')\n",
    "    print('What is your plan today?')\n",
    "    option = 0\n",
    "    while option != 4:\n",
    "        print('Select an option')\n",
    "        print('1. Add a task')\n",
    "        print('2. update a task')\n",
    "        print('3. See all tasks')\n",
    "        print('4. Exit')\n",
    "    \n",
    "        option = int(input(\"Enter one of the given option (1-4) :\"))\n",
    "\n",
    "        if option == 1:\n",
    "            add_task()\n",
    "\n",
    "        elif option == 2:\n",
    "            updateTask()\n",
    "\n",
    "        elif option == 3:\n",
    "            showTasks(loadTasks())\n",
    "\n",
    "        elif option == 4:\n",
    "            print(\"Thank you !!!\")\n",
    "            break\n",
    "\n",
    "        else:\n",
    "            print(\"Invalid choice, Enter correct option\")\n",
    "\n",
    "        if option in [1,2,3]:\n",
    "            cont = int(input(\"Do you want to continue?? (0,1)\"))\n",
    "            if not cont:\n",
    "                print('Goodbye !!')\n",
    "                break"
   ]
  },
  {
   "cell_type": "code",
   "execution_count": null,
   "id": "3d37890b-891b-40bc-8581-246dcbb7ef48",
   "metadata": {},
   "outputs": [
    {
     "name": "stdout",
     "output_type": "stream",
     "text": [
      "------ Welcome to TO-DO List -----\n",
      "What is your plan today?\n",
      "Select an option\n",
      "1. Add a task\n",
      "2. update a task\n",
      "3. See all tasks\n",
      "4. Exit\n"
     ]
    }
   ],
   "source": [
    "main()"
   ]
  },
  {
   "cell_type": "code",
   "execution_count": null,
   "id": "6f7e9196-6336-46a2-8c2c-4af35c527828",
   "metadata": {},
   "outputs": [],
   "source": []
  }
 ],
 "metadata": {
  "kernelspec": {
   "display_name": "Python 3 (ipykernel)",
   "language": "python",
   "name": "python3"
  },
  "language_info": {
   "codemirror_mode": {
    "name": "ipython",
    "version": 3
   },
   "file_extension": ".py",
   "mimetype": "text/x-python",
   "name": "python",
   "nbconvert_exporter": "python",
   "pygments_lexer": "ipython3",
   "version": "3.13.1"
  }
 },
 "nbformat": 4,
 "nbformat_minor": 5
}
